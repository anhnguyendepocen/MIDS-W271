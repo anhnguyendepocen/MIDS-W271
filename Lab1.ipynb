{
 "cells": [
  {
   "cell_type": "markdown",
   "metadata": {},
   "source": [
    "# W271 Lab 1\n",
    "\n",
    "## Part I: Marginal, Joint, and Conditional Probabilities\n",
    "\n",
    "### Question 1\n",
    "\n",
    "In a team of data scientists, 36 are expert in machine learning, 28 are expert in statistics, and 18 are awesome. 22 are expert in both machine learning and statistics, 12 are expert in machine learning and are awesome, 9 are expert in statistics and are awesome, and 48 are expert in machine learning or statistics or are awesome. Suppose you have a cocktail party with this group of data scientists and you have an equal probability of meeting any one of them."
   ]
  },
  {
   "cell_type": "markdown",
   "metadata": {},
   "source": [
    "#### 1. What is the probability of meeting a data scientist who is an expert in both machine learning and statistics and is awesome?"
   ]
  },
  {
   "cell_type": "markdown",
   "metadata": {},
   "source": [
    "<img src=\"HW1.1-venn.png\">\n",
    "\n",
    "Let A = Awesome, M = Machine Learning Expert and S = Statistics Expert\n",
    "Given:\n",
    "\n",
    "$A=18, S=28, M=36$\n",
    "\n",
    "$(A \\cap S)=9, (A \\cap M)=12, (S \\cap M)=22$\n",
    " \n",
    "Assuming that there are no team members that don't have these attributes then:\n",
    "$(A \\cup S \\cup M) = 48$\n",
    "\n",
    "$(A \\cup S \\cup M) = A + S + M - (A \\cap S) - (A \\cap M) - (S \\cap M) + (A \\cap S \\cap M)$\n",
    "\n",
    "$48 = 18 + 28 + 36 - 9 - 12 - 22 + (A \\cap S \\cap M)$\n",
    "\n",
    "$(A \\cap S \\cap M) = 9$\n",
    "\n",
    "-------------------------\n",
    "\n",
    "We can also say that\n",
    "\n",
    "$M = (M \\cap S) + (M \\cap A) - (A \\cap S \\cap M) + m$\n",
    "\n",
    "$36 = 22 + 12 - 9 + m \\Rightarrow m = 11$\n",
    "\n",
    "$S = (S \\cap M) + (S \\cap A) - (A \\cap S \\cap M) + s$\n",
    "\n",
    "$28 = 22 + 9 - 9 + s  \\Rightarrow s = 6$\n",
    "\n",
    "$A = (A \\cap M) + (A \\cap S) - (A \\cap S \\cap M) + a$\n",
    "\n",
    "$18 = 12 + 9 - 9 + a  \\Rightarrow a = 6$\n",
    "\n",
    "$Pr(A=a,M=m,S=s) = 9/48$\n",
    "\n",
    "**The probability of meeting a datascientist who is an expert in machine learning, statistics and is awesome is $\\displaystyle \\frac{3}{16}$**"
   ]
  },
  {
   "cell_type": "markdown",
   "metadata": {},
   "source": [
    "#### 2. Suppose you meet a data scientist who is an expert in machine learning. Given this information, what is the probability that they are not awesome?"
   ]
  },
  {
   "cell_type": "markdown",
   "metadata": {},
   "source": [
    "$\\displaystyle Pr(\\bar A \\mid M) = Pr(A \\bar M)/Pr(M) = \\frac{24}{36} = \\frac{2}{3}$\n"
   ]
  },
  {
   "cell_type": "markdown",
   "metadata": {},
   "source": [
    "#### 3. Suppose you meet a data scientist who is awesome. Given this information, what is the probability that they are an expert in either machine learning or statistics?"
   ]
  },
  {
   "cell_type": "markdown",
   "metadata": {},
   "source": [
    "$\\displaystyle Pr(M \\cup S \\mid A) = \\frac{3 + 9 + 0}{18} = \\frac{12}{18} = \\frac{2}{3}$"
   ]
  },
  {
   "cell_type": "markdown",
   "metadata": {},
   "source": [
    "### Question 2\n",
    "\n",
    "Suppose for events $A$ and $B$, $\\displaystyle Pr(A) = p <= \\frac{1}{2}, Pr(B) = q$, where $\\displaystyle \\frac{1}{4} < q < \\frac{1}{2}$. These are the only information we have about the events."
   ]
  },
  {
   "cell_type": "markdown",
   "metadata": {},
   "source": [
    "#### 1. What are the maximum and minimum possible values for $Pr(A \\cup B)$?"
   ]
  },
  {
   "cell_type": "markdown",
   "metadata": {},
   "source": [
    "It depends on whether A and B are independent (overlap). If they are not independent, then:\n",
    "\n",
    "$Pr(A \\cup B) = Pr(A) + Pr(B) - Pr(AB)$\n",
    "\n",
    "Since $Pr(A)$ can range from $0$ to $\\frac{1}{2}$ the lowest value is $0 + \\frac{1}{4} - 0 = \\frac{1}{4}$\n",
    "\n",
    "At $Pr(A) = \\frac{1}{2}$ we have the high value of $\\frac{1}{2} + q - (\\frac{1}{2} q) = \\frac{1}{2} + \\frac{1}{2} q$\n",
    "\n",
    "Therefore $\\frac{1}{4} <= Pr(A \\cup B) < \\frac{5}{8}$\n",
    "\n",
    "Otherwise, if A and B are independent, then:\n",
    "\n",
    "$Pr(A \\cup B) = Pr(A) + Pr(B)$ so at the low end we would have $0 + \\frac{1}{4}$ and at the high end $\\frac{1}{2}+\\frac{1}{2} = 1$\n",
    "\n",
    "So for independent events A and B the range is from 0 to 1."
   ]
  },
  {
   "cell_type": "markdown",
   "metadata": {},
   "source": [
    "#### 2. What are the maximum and minimum possible values for $Pr(A|B)$?"
   ]
  },
  {
   "cell_type": "markdown",
   "metadata": {},
   "source": [
    "Again, we don't know anything about the independence of A and B.\n",
    "\n",
    "If A and B are not independent:\n",
    "\n",
    "$\\displaystyle Pr(A \\mid B)$ $\\displaystyle= \\frac{Pr(AB)}{Pr(B)}$ and since Pr(A) can be $0$ the lower bound is $0$\n",
    "\n",
    "If A and B are completely dependent then the probability is 1.\n",
    "\n",
    "Therefore the range is 0 to 1"
   ]
  },
  {
   "cell_type": "markdown",
   "metadata": {},
   "source": [
    "## Part II: Random Variables, Expectation, Conditional Expectation\n",
    "\n",
    "### Question 3\n",
    "\n",
    "Suppose the life span of a particular server is a continuous random variable, $t$, with a uniform probability distribution between $0$ and $k$ years, where $k \\leq 10$ is a positive integer.\n",
    "\n",
    "The server comes with a contract that guarantees a full or partial refund depending on how long it lasts. Specifically, if the server fails in the first year it gives a full refund denoted by $\\theta$. If it lasts more than $1$ year but fails before $\\frac{k}{2}$ years, the manufacturer will pay $x = A(k-t)^\\frac{1}{2}$, where A is some positive constant equal to $2$ if $t \\leq \\frac{k}{2}$. If it lasts between $\\frac{k}{2}$ and $\\frac{3k}{4}$ years, it pays $\\frac{\\theta}{10}$"
   ]
  },
  {
   "cell_type": "markdown",
   "metadata": {},
   "source": [
    "<img src=\"Lab1-Q3.1.png\" width=400>\n",
    "\n",
    "Probability distribution function is: $f(t) = \\begin{cases} \n",
    "      0 & t\\leq 0 \\\\\n",
    "      \\frac{1}{k} & 0\\leq t\\leq k \\\\\n",
    "      0 & t > k \n",
    "   \\end{cases}$"
   ]
  },
  {
   "cell_type": "markdown",
   "metadata": {},
   "source": [
    "#### 1. Given that the server lasts for $\\frac{k}{4}$ years without failing, what is the probability that it will last another year?"
   ]
  },
  {
   "cell_type": "markdown",
   "metadata": {},
   "source": [
    "$Pr(t=\\frac{k}{4}+1 \\mid t=\\frac{k}{4}) = \\displaystyle \\int_{t=\\frac{k}{4}}^{t=\\frac{k}{4}+1} \\frac{1}{k} dt = \\frac{t}{k} \\displaystyle \\bigr|_{t=\\frac{k}{4}}^{t=\\frac{k}{4}+1} = \\frac{\\frac{k}{4}+1}{k} - \\frac{\\frac{k}{4}}{k} = \\frac{1}{k}(\\frac{k}{4}+1)-\\frac{1}{k}\\frac{k}{4} = \\frac{1}{4}+\\frac{1}{k}-\\frac{1}{k} = \\frac{1}{4}$\n",
    "\n",
    "k has to be > 4/3 for this to work; otherwise\n",
    "\n",
    "#### Finish the last part of this one by adding in the other case"
   ]
  },
  {
   "cell_type": "markdown",
   "metadata": {},
   "source": [
    "#### 2. Compute the expected payout from the contract, $E(x)$."
   ]
  },
  {
   "cell_type": "markdown",
   "metadata": {},
   "source": [
    "$E[x] = \\begin{cases}\n",
    "      \\theta & 0\\leq t\\leq 1 \\\\\n",
    "      A(k - t)^\\frac{1}{2} & 1 < t \\leq \\frac{k}{2} \\\\\n",
    "      \\frac{\\theta}{10} & \\frac{k}{2} < t\\leq \\frac{3k}{4} \\\\\n",
    "      0 & t > \\frac{3k}{4} \n",
    "   \\end{cases}$\n",
    "   \n",
    "For $\\displaystyle 0 \\leq t \\leq 1$ we have $\\displaystyle E[x] = \\theta \\times Pr(t \\leq 1) = \\theta \\int_{t=0}^{t=1} \\frac{1}{k} dt = \\frac{\\theta}{k}$ \n",
    "\n",
    "For $1 < t \\leq \\frac{k}{2}$ we have $\\displaystyle E[x] = \\int_{t=1}^{\\frac{k}{2}} 2(k-t)^{\\frac{1}{2}}\\frac{1}{k}dt = \\frac{4}{3k}(k-t)^{\\frac{3}{2}}$ $\\bigr |_{t=1}^{t=\\frac{k}{2}}$ $\\displaystyle = \\frac{4}{3k}(\\frac{k}{4})^{\\frac{3}{2}}-\\frac{4}{3k}(\\frac{k}{2})^{\\frac{3}{2}}$   you dropped a k in the equation\n",
    "\n",
    "For $\\displaystyle \\frac{k}{2} < t < \\frac{3k}{4}$ we have $\\displaystyle E[x] = \\frac{\\theta}{10} \\int_{t=\\frac{k}{2}}^{t=\\frac{3k}{4}} \\frac{1}{k} dt \\displaystyle = \\frac{\\theta}{10} \\frac{t}{k}$ $\\bigr|_{\\frac{k}{2}}^{\\frac{3k}{4}}$ $=\\displaystyle \\frac{\\theta}{10}(\\frac{3}{4} - \\frac{1}{2}) = \\frac{\\theta}{40}$\n"
   ]
  },
  {
   "cell_type": "markdown",
   "metadata": {},
   "source": [
    "#### 3. Compute the variance of the payout from the contract."
   ]
  },
  {
   "cell_type": "markdown",
   "metadata": {},
   "source": [
    "$Var(x) = E[x^2] - E[x]^2$\n",
    "\n",
    "For $\\displaystyle 0 \\leq t \\leq 1$ we have $\\displaystyle E[x^2] = \\theta \\times Pr(t^2 \\leq 1) = \\theta \\int_{t=0}^{t=1} \\frac{1}{k} dt = (\\frac{\\theta}{k})^2$ so $\\displaystyle Var(x) = \\frac{\\theta}{k} - \\frac{\\theta}{k} = 0$\n",
    "\n",
    "For $1 < t \\leq \\frac{k}{2}$ we have $\\displaystyle E[x] = \\int_{t=1}^{\\frac{k}{2}} 4(k-t) \\frac{1}{k}dt = \\frac{4}{3}(k-t)^{\\frac{3}{2}}$ $\\bigr |_{t=1}^{t=\\frac{k}{2}}$ $\\displaystyle = \\frac{4}{3}(\\frac{k}{4})^{\\frac{3}{2}}-\\frac{4}{3}(\\frac{k}{2})^{\\frac{3}{2}}$   check to make sure you didn't drop the k\n",
    "\n",
    "#### Finish working this stuff out ###\n"
   ]
  },
  {
   "cell_type": "markdown",
   "metadata": {},
   "source": [
    "### Question 4\n",
    "\n",
    "Continuous random variables $X$ and $Y$ have a joint distribution with probability density function $f(x,y) = 2e^{-x}e^{-2y}$ for $0 < x < \\infty, 0 < y < \\infty$ and 0 otherwise."
   ]
  },
  {
   "cell_type": "markdown",
   "metadata": {},
   "source": [
    "#### 1. Compute $P(X > a,Y < b)$, where $a,b$ are positive constants and $a < b$"
   ]
  },
  {
   "cell_type": "markdown",
   "metadata": {},
   "source": []
  },
  {
   "cell_type": "markdown",
   "metadata": {},
   "source": [
    "#### 2. Compute $P(X < Y)$"
   ]
  },
  {
   "cell_type": "markdown",
   "metadata": {},
   "source": []
  },
  {
   "cell_type": "markdown",
   "metadata": {},
   "source": [
    "#### 3. Compute $P(X < a)$"
   ]
  },
  {
   "cell_type": "markdown",
   "metadata": {},
   "source": []
  },
  {
   "cell_type": "markdown",
   "metadata": {},
   "source": [
    "### Question 5 (6 Points)\n",
    "\n",
    "#### 1. Find the value of x that minimizes E(Y). Show that your result is really the minimum."
   ]
  },
  {
   "cell_type": "markdown",
   "metadata": {},
   "source": [
    "We first expand the definition of $Y$:\n",
    "\n",
    "$$Y=a+b(X-x)^2=a+bx^2+bX^2-2bxX$$\n",
    "\n",
    "then $E(Y)$ becomes:\n",
    "\n",
    "$$E(Y)=a+bx^2+bE(X^2)-2bxE(X)$$\n",
    "\n",
    "to find the $x$ that minimums $E(Y)$, we take derivative with respect to $x$:\n",
    "\n",
    "$$\\frac{dE(Y)}{dx}=2bx-2bE(X)$$\n",
    "\n",
    "set it to $0$ and we will find the $x$ that minimizes $E(Y)$:\n",
    "\n",
    "$$\\color{red}{x=E(Y)}$$\n",
    "\n",
    "Geometrically, by subtracting $E(X)$ from X we move the whole population of $X$ around zero, which will give the minimum square value of the population."
   ]
  },
  {
   "cell_type": "markdown",
   "metadata": {},
   "source": [
    "#### 2. Find the value of E(Y) for the choice of x you found in (1)?"
   ]
  },
  {
   "cell_type": "markdown",
   "metadata": {},
   "source": [
    "Plug in $x=E(X)$ into the formula of $E(Y)$, we have:\n",
    "\n",
    "$$E(Y)=a+bE(X)^2+bE(X^2)-2bE(X)^2=a+b(E(X^2)-E(X)^2)$$\n",
    "\n",
    "and we have\n",
    "\n",
    "$$\\color{red}{E(Y)_{min}=a+bVar(X)}$$"
   ]
  },
  {
   "cell_type": "markdown",
   "metadata": {},
   "source": [
    "#### 3. Suppose $Y = ax + b(X − x)^2$. Find the values of $x$ that minimizes $E(Y)$. Show that your result is really the minimum."
   ]
  },
  {
   "cell_type": "markdown",
   "metadata": {},
   "source": [
    "Similar to part \\#1, we first obtain the new $E(Y)$:\n",
    "\n",
    "$$E(Y)=ax+bx^2+bE(X^2)-2bxE(X)$$\n",
    "\n",
    "take derivative of $E(Y)$:\n",
    "\n",
    "$$\\frac{dE(Y)}{dx}=a+2bx-2bE(X)$$\n",
    "\n",
    "set it to zero, we have the $x$ that minimums $E(Y)$\n",
    "\n",
    "$$x=E(X)-\\frac{a}{2b}$$\n",
    "\n",
    "plug $x$ into $E(Y)$, and the minimum is:\n",
    "\n",
    "$$\\color{red}{E(Y)_{min}=aE(X)+bVar(X)-\\frac{a^2}{2b}}$$"
   ]
  },
  {
   "cell_type": "code",
   "execution_count": null,
   "metadata": {
    "collapsed": true
   },
   "outputs": [],
   "source": []
  },
  {
   "cell_type": "code",
   "execution_count": null,
   "metadata": {
    "collapsed": true
   },
   "outputs": [],
   "source": []
  },
  {
   "cell_type": "code",
   "execution_count": null,
   "metadata": {
    "collapsed": true
   },
   "outputs": [],
   "source": []
  },
  {
   "cell_type": "code",
   "execution_count": null,
   "metadata": {
    "collapsed": true
   },
   "outputs": [],
   "source": []
  },
  {
   "cell_type": "code",
   "execution_count": null,
   "metadata": {
    "collapsed": true
   },
   "outputs": [],
   "source": []
  },
  {
   "cell_type": "code",
   "execution_count": null,
   "metadata": {
    "collapsed": true
   },
   "outputs": [],
   "source": []
  },
  {
   "cell_type": "code",
   "execution_count": null,
   "metadata": {
    "collapsed": true
   },
   "outputs": [],
   "source": []
  },
  {
   "cell_type": "code",
   "execution_count": null,
   "metadata": {
    "collapsed": true
   },
   "outputs": [],
   "source": []
  },
  {
   "cell_type": "code",
   "execution_count": null,
   "metadata": {
    "collapsed": true
   },
   "outputs": [],
   "source": []
  },
  {
   "cell_type": "code",
   "execution_count": null,
   "metadata": {
    "collapsed": true
   },
   "outputs": [],
   "source": []
  },
  {
   "cell_type": "code",
   "execution_count": null,
   "metadata": {
    "collapsed": true
   },
   "outputs": [],
   "source": []
  },
  {
   "cell_type": "code",
   "execution_count": null,
   "metadata": {
    "collapsed": true
   },
   "outputs": [],
   "source": []
  },
  {
   "cell_type": "code",
   "execution_count": null,
   "metadata": {
    "collapsed": true
   },
   "outputs": [],
   "source": []
  }
 ],
 "metadata": {
  "kernelspec": {
   "display_name": "R",
   "language": "R",
   "name": "ir"
  },
  "language_info": {
   "codemirror_mode": "r",
   "file_extension": ".r",
   "mimetype": "text/x-r-source",
   "name": "R",
   "pygments_lexer": "r",
   "version": "3.2.3"
  }
 },
 "nbformat": 4,
 "nbformat_minor": 0
}
